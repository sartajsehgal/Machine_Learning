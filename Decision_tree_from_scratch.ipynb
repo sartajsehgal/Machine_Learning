{
 "cells": [
  {
   "cell_type": "code",
   "execution_count": 1,
   "id": "d96871d2",
   "metadata": {
    "id": "d96871d2"
   },
   "outputs": [],
   "source": [
    "import numpy as np\n",
    "import pandas as pd"
   ]
  },
  {
   "cell_type": "code",
   "execution_count": 2,
   "id": "ec5d3712",
   "metadata": {
    "colab": {
     "base_uri": "https://localhost:8080/",
     "height": 488
    },
    "id": "ec5d3712",
    "outputId": "2685053c-3418-4e2c-912f-73ca663dea5f"
   },
   "outputs": [
    {
     "data": {
      "text/html": [
       "<div>\n",
       "<style scoped>\n",
       "    .dataframe tbody tr th:only-of-type {\n",
       "        vertical-align: middle;\n",
       "    }\n",
       "\n",
       "    .dataframe tbody tr th {\n",
       "        vertical-align: top;\n",
       "    }\n",
       "\n",
       "    .dataframe thead th {\n",
       "        text-align: right;\n",
       "    }\n",
       "</style>\n",
       "<table border=\"1\" class=\"dataframe\">\n",
       "  <thead>\n",
       "    <tr style=\"text-align: right;\">\n",
       "      <th></th>\n",
       "      <th>Outlook</th>\n",
       "      <th>Temperature</th>\n",
       "      <th>Humidity</th>\n",
       "      <th>Windy</th>\n",
       "      <th>Play</th>\n",
       "    </tr>\n",
       "  </thead>\n",
       "  <tbody>\n",
       "    <tr>\n",
       "      <th>0</th>\n",
       "      <td>sunny</td>\n",
       "      <td>85</td>\n",
       "      <td>85</td>\n",
       "      <td>False</td>\n",
       "      <td>no</td>\n",
       "    </tr>\n",
       "    <tr>\n",
       "      <th>1</th>\n",
       "      <td>sunny</td>\n",
       "      <td>80</td>\n",
       "      <td>90</td>\n",
       "      <td>True</td>\n",
       "      <td>no</td>\n",
       "    </tr>\n",
       "    <tr>\n",
       "      <th>2</th>\n",
       "      <td>overcast</td>\n",
       "      <td>83</td>\n",
       "      <td>78</td>\n",
       "      <td>False</td>\n",
       "      <td>yes</td>\n",
       "    </tr>\n",
       "    <tr>\n",
       "      <th>3</th>\n",
       "      <td>rain</td>\n",
       "      <td>70</td>\n",
       "      <td>96</td>\n",
       "      <td>False</td>\n",
       "      <td>yes</td>\n",
       "    </tr>\n",
       "    <tr>\n",
       "      <th>4</th>\n",
       "      <td>rain</td>\n",
       "      <td>68</td>\n",
       "      <td>80</td>\n",
       "      <td>False</td>\n",
       "      <td>yes</td>\n",
       "    </tr>\n",
       "    <tr>\n",
       "      <th>5</th>\n",
       "      <td>rain</td>\n",
       "      <td>65</td>\n",
       "      <td>70</td>\n",
       "      <td>True</td>\n",
       "      <td>no</td>\n",
       "    </tr>\n",
       "    <tr>\n",
       "      <th>6</th>\n",
       "      <td>overcast</td>\n",
       "      <td>64</td>\n",
       "      <td>65</td>\n",
       "      <td>True</td>\n",
       "      <td>yes</td>\n",
       "    </tr>\n",
       "    <tr>\n",
       "      <th>7</th>\n",
       "      <td>sunny</td>\n",
       "      <td>72</td>\n",
       "      <td>95</td>\n",
       "      <td>False</td>\n",
       "      <td>no</td>\n",
       "    </tr>\n",
       "    <tr>\n",
       "      <th>8</th>\n",
       "      <td>sunny</td>\n",
       "      <td>69</td>\n",
       "      <td>70</td>\n",
       "      <td>False</td>\n",
       "      <td>yes</td>\n",
       "    </tr>\n",
       "    <tr>\n",
       "      <th>9</th>\n",
       "      <td>rain</td>\n",
       "      <td>75</td>\n",
       "      <td>80</td>\n",
       "      <td>False</td>\n",
       "      <td>yes</td>\n",
       "    </tr>\n",
       "    <tr>\n",
       "      <th>10</th>\n",
       "      <td>sunny</td>\n",
       "      <td>75</td>\n",
       "      <td>70</td>\n",
       "      <td>True</td>\n",
       "      <td>yes</td>\n",
       "    </tr>\n",
       "    <tr>\n",
       "      <th>11</th>\n",
       "      <td>overcast</td>\n",
       "      <td>72</td>\n",
       "      <td>90</td>\n",
       "      <td>True</td>\n",
       "      <td>yes</td>\n",
       "    </tr>\n",
       "    <tr>\n",
       "      <th>12</th>\n",
       "      <td>overcast</td>\n",
       "      <td>81</td>\n",
       "      <td>75</td>\n",
       "      <td>False</td>\n",
       "      <td>yes</td>\n",
       "    </tr>\n",
       "    <tr>\n",
       "      <th>13</th>\n",
       "      <td>rain</td>\n",
       "      <td>71</td>\n",
       "      <td>80</td>\n",
       "      <td>True</td>\n",
       "      <td>no</td>\n",
       "    </tr>\n",
       "  </tbody>\n",
       "</table>\n",
       "</div>"
      ],
      "text/plain": [
       "     Outlook  Temperature  Humidity  Windy Play\n",
       "0      sunny           85        85  False   no\n",
       "1      sunny           80        90   True   no\n",
       "2   overcast           83        78  False  yes\n",
       "3       rain           70        96  False  yes\n",
       "4       rain           68        80  False  yes\n",
       "5       rain           65        70   True   no\n",
       "6   overcast           64        65   True  yes\n",
       "7      sunny           72        95  False   no\n",
       "8      sunny           69        70  False  yes\n",
       "9       rain           75        80  False  yes\n",
       "10     sunny           75        70   True  yes\n",
       "11  overcast           72        90   True  yes\n",
       "12  overcast           81        75  False  yes\n",
       "13      rain           71        80   True   no"
      ]
     },
     "execution_count": 2,
     "metadata": {},
     "output_type": "execute_result"
    }
   ],
   "source": [
    "df=pd.read_csv(\"play.csv\")\n",
    "df"
   ]
  },
  {
   "cell_type": "code",
   "execution_count": 3,
   "id": "7d487faf",
   "metadata": {
    "id": "7d487faf"
   },
   "outputs": [],
   "source": [
    "df_temp=df[['Temperature','Play']]"
   ]
  },
  {
   "cell_type": "code",
   "execution_count": 4,
   "id": "ea6f29d5",
   "metadata": {
    "colab": {
     "base_uri": "https://localhost:8080/",
     "height": 488
    },
    "id": "ea6f29d5",
    "outputId": "9a98a696-9090-4b43-8e2d-b48433d898af"
   },
   "outputs": [
    {
     "data": {
      "text/html": [
       "<div>\n",
       "<style scoped>\n",
       "    .dataframe tbody tr th:only-of-type {\n",
       "        vertical-align: middle;\n",
       "    }\n",
       "\n",
       "    .dataframe tbody tr th {\n",
       "        vertical-align: top;\n",
       "    }\n",
       "\n",
       "    .dataframe thead th {\n",
       "        text-align: right;\n",
       "    }\n",
       "</style>\n",
       "<table border=\"1\" class=\"dataframe\">\n",
       "  <thead>\n",
       "    <tr style=\"text-align: right;\">\n",
       "      <th></th>\n",
       "      <th>Temperature</th>\n",
       "      <th>Play</th>\n",
       "    </tr>\n",
       "  </thead>\n",
       "  <tbody>\n",
       "    <tr>\n",
       "      <th>0</th>\n",
       "      <td>64</td>\n",
       "      <td>yes</td>\n",
       "    </tr>\n",
       "    <tr>\n",
       "      <th>1</th>\n",
       "      <td>65</td>\n",
       "      <td>no</td>\n",
       "    </tr>\n",
       "    <tr>\n",
       "      <th>2</th>\n",
       "      <td>68</td>\n",
       "      <td>yes</td>\n",
       "    </tr>\n",
       "    <tr>\n",
       "      <th>3</th>\n",
       "      <td>69</td>\n",
       "      <td>yes</td>\n",
       "    </tr>\n",
       "    <tr>\n",
       "      <th>4</th>\n",
       "      <td>70</td>\n",
       "      <td>yes</td>\n",
       "    </tr>\n",
       "    <tr>\n",
       "      <th>5</th>\n",
       "      <td>71</td>\n",
       "      <td>no</td>\n",
       "    </tr>\n",
       "    <tr>\n",
       "      <th>6</th>\n",
       "      <td>72</td>\n",
       "      <td>no</td>\n",
       "    </tr>\n",
       "    <tr>\n",
       "      <th>7</th>\n",
       "      <td>72</td>\n",
       "      <td>yes</td>\n",
       "    </tr>\n",
       "    <tr>\n",
       "      <th>8</th>\n",
       "      <td>75</td>\n",
       "      <td>yes</td>\n",
       "    </tr>\n",
       "    <tr>\n",
       "      <th>9</th>\n",
       "      <td>75</td>\n",
       "      <td>yes</td>\n",
       "    </tr>\n",
       "    <tr>\n",
       "      <th>10</th>\n",
       "      <td>80</td>\n",
       "      <td>no</td>\n",
       "    </tr>\n",
       "    <tr>\n",
       "      <th>11</th>\n",
       "      <td>81</td>\n",
       "      <td>yes</td>\n",
       "    </tr>\n",
       "    <tr>\n",
       "      <th>12</th>\n",
       "      <td>83</td>\n",
       "      <td>yes</td>\n",
       "    </tr>\n",
       "    <tr>\n",
       "      <th>13</th>\n",
       "      <td>85</td>\n",
       "      <td>no</td>\n",
       "    </tr>\n",
       "  </tbody>\n",
       "</table>\n",
       "</div>"
      ],
      "text/plain": [
       "    Temperature Play\n",
       "0            64  yes\n",
       "1            65   no\n",
       "2            68  yes\n",
       "3            69  yes\n",
       "4            70  yes\n",
       "5            71   no\n",
       "6            72   no\n",
       "7            72  yes\n",
       "8            75  yes\n",
       "9            75  yes\n",
       "10           80   no\n",
       "11           81  yes\n",
       "12           83  yes\n",
       "13           85   no"
      ]
     },
     "execution_count": 4,
     "metadata": {},
     "output_type": "execute_result"
    }
   ],
   "source": [
    "df_temp_sorted=df_temp.sort_values('Temperature',ignore_index=True)\n",
    "df_temp_sorted"
   ]
  },
  {
   "cell_type": "code",
   "execution_count": 5,
   "id": "5158df09",
   "metadata": {
    "colab": {
     "base_uri": "https://localhost:8080/"
    },
    "id": "5158df09",
    "outputId": "6c2ee0a0-8a98-4fe0-8e68-7acd1b49783b"
   },
   "outputs": [
    {
     "name": "stdout",
     "output_type": "stream",
     "text": [
      "0.9402859586706309\n"
     ]
    }
   ],
   "source": [
    "import math\n",
    "yes=len(df.loc[df['Play']=='yes'])\n",
    "no=len(df.loc[df['Play']=='no'])\n",
    "entropy=-1*(yes/(yes+no)*math.log(yes/(yes+no),2) + no/(yes+no)*math.log(no/(yes+no),2))\n",
    "print(entropy)"
   ]
  },
  {
   "cell_type": "code",
   "execution_count": 6,
   "id": "b99d25a3",
   "metadata": {
    "colab": {
     "base_uri": "https://localhost:8080/"
    },
    "id": "b99d25a3",
    "outputId": "9e834308-b12e-497b-f8ca-38e794c7f0c4"
   },
   "outputs": [
    {
     "name": "stdout",
     "output_type": "stream",
     "text": [
      "83\n"
     ]
    }
   ],
   "source": [
    "gain_ratio_values=[]\n",
    "for i in range(0,13):\n",
    "    lt_yes=len(df_temp_sorted.loc[np.logical_and(df_temp_sorted['Temperature']<=df_temp_sorted.iloc[i,0],df_temp_sorted['Play']=='yes')])\n",
    "    lt_no=len(df_temp_sorted.loc[np.logical_and(df_temp_sorted['Temperature']<=df_temp_sorted.iloc[i,0],df_temp_sorted['Play']=='no')])\n",
    "    gt_yes=len(df_temp_sorted.loc[np.logical_and(df_temp_sorted['Temperature']>df_temp_sorted.iloc[i,0],df_temp_sorted['Play']=='yes')])\n",
    "    gt_no=len(df_temp_sorted.loc[np.logical_and(df_temp_sorted['Temperature']>df_temp_sorted.iloc[i,0],df_temp_sorted['Play']=='no')])\n",
    "    lt_entropy=-1*((lt_yes/(lt_yes+lt_no))*math.log2((lt_yes if lt_yes!=0 else (lt_yes+lt_no))/(lt_yes+lt_no))+(lt_no/(lt_yes+lt_no))*math.log2((lt_no if lt_no!=0 else (lt_yes+lt_no))/(lt_yes+lt_no)))\n",
    "    gt_entropy=-1*((gt_yes/(gt_yes+gt_no))*math.log2((gt_yes if gt_yes!=0 else (gt_yes+gt_no))/(gt_yes+gt_no))+(gt_no/(gt_yes+gt_no))*math.log2((gt_no if gt_no!=0 else (gt_yes+gt_no))/(gt_yes+gt_no)))\n",
    "    avg_info_ent=(lt_yes+lt_no)/(lt_yes+lt_no+gt_yes+gt_no)*lt_entropy+(gt_yes+gt_no)/(lt_yes+lt_no+gt_yes+gt_no)*gt_entropy\n",
    "    info_gain=entropy-avg_info_ent\n",
    "    split_info=-1*((lt_yes+lt_no)/(lt_yes+lt_no+gt_yes+gt_no)*math.log2((lt_yes+lt_no)/(lt_yes+lt_no+gt_yes+gt_no))+(gt_yes+gt_no)/(lt_yes+lt_no+gt_yes+gt_no)*math.log2((gt_yes+gt_no)/(lt_yes+lt_no+gt_yes+gt_no)))\n",
    "    gain_ratio=info_gain/split_info\n",
    "    a=[]\n",
    "    a.append(df_temp_sorted.iloc[i,0])\n",
    "    a.append(gain_ratio)\n",
    "    gain_ratio_values.append(a) \n",
    "threshold_temp=sorted(gain_ratio_values, key=lambda x: x[1],reverse=True)[0][0]\n",
    "print(threshold_temp)"
   ]
  },
  {
   "cell_type": "code",
   "execution_count": 7,
   "id": "e5bb53a5",
   "metadata": {
    "colab": {
     "base_uri": "https://localhost:8080/",
     "height": 488
    },
    "id": "e5bb53a5",
    "outputId": "0b19da10-3555-4009-db93-f5a5b217bb62"
   },
   "outputs": [
    {
     "data": {
      "text/html": [
       "<div>\n",
       "<style scoped>\n",
       "    .dataframe tbody tr th:only-of-type {\n",
       "        vertical-align: middle;\n",
       "    }\n",
       "\n",
       "    .dataframe tbody tr th {\n",
       "        vertical-align: top;\n",
       "    }\n",
       "\n",
       "    .dataframe thead th {\n",
       "        text-align: right;\n",
       "    }\n",
       "</style>\n",
       "<table border=\"1\" class=\"dataframe\">\n",
       "  <thead>\n",
       "    <tr style=\"text-align: right;\">\n",
       "      <th></th>\n",
       "      <th>Outlook</th>\n",
       "      <th>Temperature</th>\n",
       "      <th>Humidity</th>\n",
       "      <th>Windy</th>\n",
       "      <th>Play</th>\n",
       "    </tr>\n",
       "  </thead>\n",
       "  <tbody>\n",
       "    <tr>\n",
       "      <th>0</th>\n",
       "      <td>sunny</td>\n",
       "      <td>True</td>\n",
       "      <td>85</td>\n",
       "      <td>False</td>\n",
       "      <td>no</td>\n",
       "    </tr>\n",
       "    <tr>\n",
       "      <th>1</th>\n",
       "      <td>sunny</td>\n",
       "      <td>False</td>\n",
       "      <td>90</td>\n",
       "      <td>True</td>\n",
       "      <td>no</td>\n",
       "    </tr>\n",
       "    <tr>\n",
       "      <th>2</th>\n",
       "      <td>overcast</td>\n",
       "      <td>False</td>\n",
       "      <td>78</td>\n",
       "      <td>False</td>\n",
       "      <td>yes</td>\n",
       "    </tr>\n",
       "    <tr>\n",
       "      <th>3</th>\n",
       "      <td>rain</td>\n",
       "      <td>False</td>\n",
       "      <td>96</td>\n",
       "      <td>False</td>\n",
       "      <td>yes</td>\n",
       "    </tr>\n",
       "    <tr>\n",
       "      <th>4</th>\n",
       "      <td>rain</td>\n",
       "      <td>False</td>\n",
       "      <td>80</td>\n",
       "      <td>False</td>\n",
       "      <td>yes</td>\n",
       "    </tr>\n",
       "    <tr>\n",
       "      <th>5</th>\n",
       "      <td>rain</td>\n",
       "      <td>False</td>\n",
       "      <td>70</td>\n",
       "      <td>True</td>\n",
       "      <td>no</td>\n",
       "    </tr>\n",
       "    <tr>\n",
       "      <th>6</th>\n",
       "      <td>overcast</td>\n",
       "      <td>False</td>\n",
       "      <td>65</td>\n",
       "      <td>True</td>\n",
       "      <td>yes</td>\n",
       "    </tr>\n",
       "    <tr>\n",
       "      <th>7</th>\n",
       "      <td>sunny</td>\n",
       "      <td>False</td>\n",
       "      <td>95</td>\n",
       "      <td>False</td>\n",
       "      <td>no</td>\n",
       "    </tr>\n",
       "    <tr>\n",
       "      <th>8</th>\n",
       "      <td>sunny</td>\n",
       "      <td>False</td>\n",
       "      <td>70</td>\n",
       "      <td>False</td>\n",
       "      <td>yes</td>\n",
       "    </tr>\n",
       "    <tr>\n",
       "      <th>9</th>\n",
       "      <td>rain</td>\n",
       "      <td>False</td>\n",
       "      <td>80</td>\n",
       "      <td>False</td>\n",
       "      <td>yes</td>\n",
       "    </tr>\n",
       "    <tr>\n",
       "      <th>10</th>\n",
       "      <td>sunny</td>\n",
       "      <td>False</td>\n",
       "      <td>70</td>\n",
       "      <td>True</td>\n",
       "      <td>yes</td>\n",
       "    </tr>\n",
       "    <tr>\n",
       "      <th>11</th>\n",
       "      <td>overcast</td>\n",
       "      <td>False</td>\n",
       "      <td>90</td>\n",
       "      <td>True</td>\n",
       "      <td>yes</td>\n",
       "    </tr>\n",
       "    <tr>\n",
       "      <th>12</th>\n",
       "      <td>overcast</td>\n",
       "      <td>False</td>\n",
       "      <td>75</td>\n",
       "      <td>False</td>\n",
       "      <td>yes</td>\n",
       "    </tr>\n",
       "    <tr>\n",
       "      <th>13</th>\n",
       "      <td>rain</td>\n",
       "      <td>False</td>\n",
       "      <td>80</td>\n",
       "      <td>True</td>\n",
       "      <td>no</td>\n",
       "    </tr>\n",
       "  </tbody>\n",
       "</table>\n",
       "</div>"
      ],
      "text/plain": [
       "     Outlook Temperature  Humidity  Windy Play\n",
       "0      sunny        True        85  False   no\n",
       "1      sunny       False        90   True   no\n",
       "2   overcast       False        78  False  yes\n",
       "3       rain       False        96  False  yes\n",
       "4       rain       False        80  False  yes\n",
       "5       rain       False        70   True   no\n",
       "6   overcast       False        65   True  yes\n",
       "7      sunny       False        95  False   no\n",
       "8      sunny       False        70  False  yes\n",
       "9       rain       False        80  False  yes\n",
       "10     sunny       False        70   True  yes\n",
       "11  overcast       False        90   True  yes\n",
       "12  overcast       False        75  False  yes\n",
       "13      rain       False        80   True   no"
      ]
     },
     "execution_count": 7,
     "metadata": {},
     "output_type": "execute_result"
    }
   ],
   "source": [
    "for i in range(len(df)):\n",
    "    if int(df.iloc[i,1])>int(threshold_temp):\n",
    "        df.iloc[i,1]='True'\n",
    "    else:\n",
    "        df.iloc[i,1]='False'\n",
    "df"
   ]
  },
  {
   "cell_type": "code",
   "execution_count": 8,
   "id": "39723a89",
   "metadata": {
    "id": "39723a89"
   },
   "outputs": [],
   "source": [
    "df_hum=df[['Humidity','Play']]"
   ]
  },
  {
   "cell_type": "code",
   "execution_count": 9,
   "id": "95dbb5af",
   "metadata": {
    "colab": {
     "base_uri": "https://localhost:8080/",
     "height": 488
    },
    "id": "95dbb5af",
    "outputId": "5d73368a-fdaf-47f5-fe74-322699bfd8ee"
   },
   "outputs": [
    {
     "data": {
      "text/html": [
       "<div>\n",
       "<style scoped>\n",
       "    .dataframe tbody tr th:only-of-type {\n",
       "        vertical-align: middle;\n",
       "    }\n",
       "\n",
       "    .dataframe tbody tr th {\n",
       "        vertical-align: top;\n",
       "    }\n",
       "\n",
       "    .dataframe thead th {\n",
       "        text-align: right;\n",
       "    }\n",
       "</style>\n",
       "<table border=\"1\" class=\"dataframe\">\n",
       "  <thead>\n",
       "    <tr style=\"text-align: right;\">\n",
       "      <th></th>\n",
       "      <th>Humidity</th>\n",
       "      <th>Play</th>\n",
       "    </tr>\n",
       "  </thead>\n",
       "  <tbody>\n",
       "    <tr>\n",
       "      <th>0</th>\n",
       "      <td>65</td>\n",
       "      <td>yes</td>\n",
       "    </tr>\n",
       "    <tr>\n",
       "      <th>1</th>\n",
       "      <td>70</td>\n",
       "      <td>no</td>\n",
       "    </tr>\n",
       "    <tr>\n",
       "      <th>2</th>\n",
       "      <td>70</td>\n",
       "      <td>yes</td>\n",
       "    </tr>\n",
       "    <tr>\n",
       "      <th>3</th>\n",
       "      <td>70</td>\n",
       "      <td>yes</td>\n",
       "    </tr>\n",
       "    <tr>\n",
       "      <th>4</th>\n",
       "      <td>75</td>\n",
       "      <td>yes</td>\n",
       "    </tr>\n",
       "    <tr>\n",
       "      <th>5</th>\n",
       "      <td>78</td>\n",
       "      <td>yes</td>\n",
       "    </tr>\n",
       "    <tr>\n",
       "      <th>6</th>\n",
       "      <td>80</td>\n",
       "      <td>yes</td>\n",
       "    </tr>\n",
       "    <tr>\n",
       "      <th>7</th>\n",
       "      <td>80</td>\n",
       "      <td>yes</td>\n",
       "    </tr>\n",
       "    <tr>\n",
       "      <th>8</th>\n",
       "      <td>80</td>\n",
       "      <td>no</td>\n",
       "    </tr>\n",
       "    <tr>\n",
       "      <th>9</th>\n",
       "      <td>85</td>\n",
       "      <td>no</td>\n",
       "    </tr>\n",
       "    <tr>\n",
       "      <th>10</th>\n",
       "      <td>90</td>\n",
       "      <td>no</td>\n",
       "    </tr>\n",
       "    <tr>\n",
       "      <th>11</th>\n",
       "      <td>90</td>\n",
       "      <td>yes</td>\n",
       "    </tr>\n",
       "    <tr>\n",
       "      <th>12</th>\n",
       "      <td>95</td>\n",
       "      <td>no</td>\n",
       "    </tr>\n",
       "    <tr>\n",
       "      <th>13</th>\n",
       "      <td>96</td>\n",
       "      <td>yes</td>\n",
       "    </tr>\n",
       "  </tbody>\n",
       "</table>\n",
       "</div>"
      ],
      "text/plain": [
       "    Humidity Play\n",
       "0         65  yes\n",
       "1         70   no\n",
       "2         70  yes\n",
       "3         70  yes\n",
       "4         75  yes\n",
       "5         78  yes\n",
       "6         80  yes\n",
       "7         80  yes\n",
       "8         80   no\n",
       "9         85   no\n",
       "10        90   no\n",
       "11        90  yes\n",
       "12        95   no\n",
       "13        96  yes"
      ]
     },
     "execution_count": 9,
     "metadata": {},
     "output_type": "execute_result"
    }
   ],
   "source": [
    "df_hum_sorted=df_hum.sort_values('Humidity',ignore_index=True)\n",
    "df_hum_sorted"
   ]
  },
  {
   "cell_type": "code",
   "execution_count": 10,
   "id": "4d311cb8",
   "metadata": {
    "colab": {
     "base_uri": "https://localhost:8080/"
    },
    "id": "4d311cb8",
    "outputId": "4ed1f9a4-f256-40b4-b73d-ec4efc094661"
   },
   "outputs": [
    {
     "name": "stdout",
     "output_type": "stream",
     "text": [
      "65\n"
     ]
    }
   ],
   "source": [
    "gain_ratio_values_hum=[]\n",
    "for i in range(0,13):\n",
    "    lt_yes=len(df_hum_sorted.loc[np.logical_and(df_hum_sorted['Humidity']<=df_hum_sorted.iloc[i,0],df_hum_sorted['Play']=='yes')])\n",
    "    lt_no=len(df_hum_sorted.loc[np.logical_and(df_hum_sorted['Humidity']<=df_hum_sorted.iloc[i,0],df_hum_sorted['Play']=='no')])\n",
    "    gt_yes=len(df_hum_sorted.loc[np.logical_and(df_hum_sorted['Humidity']>df_hum_sorted.iloc[i,0],df_hum_sorted['Play']=='yes')])\n",
    "    gt_no=len(df_hum_sorted.loc[np.logical_and(df_hum_sorted['Humidity']>df_hum_sorted.iloc[i,0],df_hum_sorted['Play']=='no')])\n",
    "    lt_entropy=-1*((lt_yes/(lt_yes+lt_no))*math.log2((lt_yes if lt_yes!=0 else (lt_yes+lt_no))/(lt_yes+lt_no))+(lt_no/(lt_yes+lt_no))*math.log2((lt_no if lt_no!=0 else (lt_yes+lt_no))/(lt_yes+lt_no)))\n",
    "    gt_entropy=-1*((gt_yes/(gt_yes+gt_no))*math.log2((gt_yes if gt_yes!=0 else (gt_yes+gt_no))/(gt_yes+gt_no))+(gt_no/(gt_yes+gt_no))*math.log2((gt_no if gt_no!=0 else (gt_yes+gt_no))/(gt_yes+gt_no)))\n",
    "    avg_info_ent=(lt_yes+lt_no)/(lt_yes+lt_no+gt_yes+gt_no)*lt_entropy+(gt_yes+gt_no)/(lt_yes+lt_no+gt_yes+gt_no)*gt_entropy\n",
    "    info_gain=entropy-avg_info_ent\n",
    "    split_info=-1*((lt_yes+lt_no)/(lt_yes+lt_no+gt_yes+gt_no)*math.log2((lt_yes+lt_no)/(lt_yes+lt_no+gt_yes+gt_no))+(gt_yes+gt_no)/(lt_yes+lt_no+gt_yes+gt_no)*math.log2((gt_yes+gt_no)/(lt_yes+lt_no+gt_yes+gt_no)))\n",
    "    gain_ratio=info_gain/split_info\n",
    "    a=[]\n",
    "    a.append(df_hum_sorted.iloc[i,0])\n",
    "    a.append(gain_ratio)\n",
    "    gain_ratio_values_hum.append(a) \n",
    "threshold_hum=sorted(gain_ratio_values_hum, key=lambda x: x[1],reverse=True)[0][0]\n",
    "print(threshold_hum)"
   ]
  },
  {
   "cell_type": "code",
   "execution_count": 11,
   "id": "0deda489",
   "metadata": {
    "colab": {
     "base_uri": "https://localhost:8080/",
     "height": 488
    },
    "id": "0deda489",
    "outputId": "d13a037e-f51d-4cd7-9973-20fc55ca9685"
   },
   "outputs": [
    {
     "data": {
      "text/html": [
       "<div>\n",
       "<style scoped>\n",
       "    .dataframe tbody tr th:only-of-type {\n",
       "        vertical-align: middle;\n",
       "    }\n",
       "\n",
       "    .dataframe tbody tr th {\n",
       "        vertical-align: top;\n",
       "    }\n",
       "\n",
       "    .dataframe thead th {\n",
       "        text-align: right;\n",
       "    }\n",
       "</style>\n",
       "<table border=\"1\" class=\"dataframe\">\n",
       "  <thead>\n",
       "    <tr style=\"text-align: right;\">\n",
       "      <th></th>\n",
       "      <th>Outlook</th>\n",
       "      <th>Temperature</th>\n",
       "      <th>Humidity</th>\n",
       "      <th>Windy</th>\n",
       "      <th>Play</th>\n",
       "    </tr>\n",
       "  </thead>\n",
       "  <tbody>\n",
       "    <tr>\n",
       "      <th>0</th>\n",
       "      <td>sunny</td>\n",
       "      <td>True</td>\n",
       "      <td>True</td>\n",
       "      <td>False</td>\n",
       "      <td>no</td>\n",
       "    </tr>\n",
       "    <tr>\n",
       "      <th>1</th>\n",
       "      <td>sunny</td>\n",
       "      <td>False</td>\n",
       "      <td>True</td>\n",
       "      <td>True</td>\n",
       "      <td>no</td>\n",
       "    </tr>\n",
       "    <tr>\n",
       "      <th>2</th>\n",
       "      <td>overcast</td>\n",
       "      <td>False</td>\n",
       "      <td>True</td>\n",
       "      <td>False</td>\n",
       "      <td>yes</td>\n",
       "    </tr>\n",
       "    <tr>\n",
       "      <th>3</th>\n",
       "      <td>rain</td>\n",
       "      <td>False</td>\n",
       "      <td>True</td>\n",
       "      <td>False</td>\n",
       "      <td>yes</td>\n",
       "    </tr>\n",
       "    <tr>\n",
       "      <th>4</th>\n",
       "      <td>rain</td>\n",
       "      <td>False</td>\n",
       "      <td>True</td>\n",
       "      <td>False</td>\n",
       "      <td>yes</td>\n",
       "    </tr>\n",
       "    <tr>\n",
       "      <th>5</th>\n",
       "      <td>rain</td>\n",
       "      <td>False</td>\n",
       "      <td>True</td>\n",
       "      <td>True</td>\n",
       "      <td>no</td>\n",
       "    </tr>\n",
       "    <tr>\n",
       "      <th>6</th>\n",
       "      <td>overcast</td>\n",
       "      <td>False</td>\n",
       "      <td>False</td>\n",
       "      <td>True</td>\n",
       "      <td>yes</td>\n",
       "    </tr>\n",
       "    <tr>\n",
       "      <th>7</th>\n",
       "      <td>sunny</td>\n",
       "      <td>False</td>\n",
       "      <td>True</td>\n",
       "      <td>False</td>\n",
       "      <td>no</td>\n",
       "    </tr>\n",
       "    <tr>\n",
       "      <th>8</th>\n",
       "      <td>sunny</td>\n",
       "      <td>False</td>\n",
       "      <td>True</td>\n",
       "      <td>False</td>\n",
       "      <td>yes</td>\n",
       "    </tr>\n",
       "    <tr>\n",
       "      <th>9</th>\n",
       "      <td>rain</td>\n",
       "      <td>False</td>\n",
       "      <td>True</td>\n",
       "      <td>False</td>\n",
       "      <td>yes</td>\n",
       "    </tr>\n",
       "    <tr>\n",
       "      <th>10</th>\n",
       "      <td>sunny</td>\n",
       "      <td>False</td>\n",
       "      <td>True</td>\n",
       "      <td>True</td>\n",
       "      <td>yes</td>\n",
       "    </tr>\n",
       "    <tr>\n",
       "      <th>11</th>\n",
       "      <td>overcast</td>\n",
       "      <td>False</td>\n",
       "      <td>True</td>\n",
       "      <td>True</td>\n",
       "      <td>yes</td>\n",
       "    </tr>\n",
       "    <tr>\n",
       "      <th>12</th>\n",
       "      <td>overcast</td>\n",
       "      <td>False</td>\n",
       "      <td>True</td>\n",
       "      <td>False</td>\n",
       "      <td>yes</td>\n",
       "    </tr>\n",
       "    <tr>\n",
       "      <th>13</th>\n",
       "      <td>rain</td>\n",
       "      <td>False</td>\n",
       "      <td>True</td>\n",
       "      <td>True</td>\n",
       "      <td>no</td>\n",
       "    </tr>\n",
       "  </tbody>\n",
       "</table>\n",
       "</div>"
      ],
      "text/plain": [
       "     Outlook Temperature Humidity  Windy Play\n",
       "0      sunny        True     True  False   no\n",
       "1      sunny       False     True   True   no\n",
       "2   overcast       False     True  False  yes\n",
       "3       rain       False     True  False  yes\n",
       "4       rain       False     True  False  yes\n",
       "5       rain       False     True   True   no\n",
       "6   overcast       False    False   True  yes\n",
       "7      sunny       False     True  False   no\n",
       "8      sunny       False     True  False  yes\n",
       "9       rain       False     True  False  yes\n",
       "10     sunny       False     True   True  yes\n",
       "11  overcast       False     True   True  yes\n",
       "12  overcast       False     True  False  yes\n",
       "13      rain       False     True   True   no"
      ]
     },
     "execution_count": 11,
     "metadata": {},
     "output_type": "execute_result"
    }
   ],
   "source": [
    "for i in range(len(df)):\n",
    "    if int(df.iloc[i,2])>int(threshold_hum):\n",
    "        df.iloc[i,2]='True'\n",
    "    else:\n",
    "        df.iloc[i,2]='False'\n",
    "df"
   ]
  },
  {
   "cell_type": "code",
   "execution_count": 12,
   "id": "be18871b",
   "metadata": {
    "id": "be18871b"
   },
   "outputs": [],
   "source": [
    "def find_entropy(df):\n",
    "    Class=df.keys()[-1]\n",
    "    outcomes=df[Class].unique()\n",
    "    entropy=0\n",
    "    for outcome in outcomes:\n",
    "        prob=len(df[Class][df[Class]==outcome])/len(df)\n",
    "        entropy+=-(prob*np.log2(prob+1e-10))\n",
    "    return entropy"
   ]
  },
  {
   "cell_type": "code",
   "execution_count": 13,
   "id": "eb02c74f",
   "metadata": {
    "colab": {
     "base_uri": "https://localhost:8080/"
    },
    "id": "eb02c74f",
    "outputId": "da62b06c-728f-4ed1-e3ec-66f31aaf318d"
   },
   "outputs": [
    {
     "name": "stdout",
     "output_type": "stream",
     "text": [
      "0.9402859583820921\n"
     ]
    }
   ],
   "source": [
    "entropy_system=find_entropy(df)\n",
    "print(entropy_system)"
   ]
  },
  {
   "cell_type": "code",
   "execution_count": 14,
   "id": "5df42ddc",
   "metadata": {
    "id": "5df42ddc"
   },
   "outputs": [],
   "source": [
    "def find_avg_info_entropy(df,attribute):\n",
    "    Class=df.keys()[-1]\n",
    "    outcomes=df[Class].unique()\n",
    "    attribute_values=df[attribute].unique()\n",
    "    avg_entropy=0\n",
    "    for val in attribute_values:\n",
    "        entropy_subsample=0\n",
    "        for value in outcomes:\n",
    "            num=len(df[attribute][df[attribute]==val][df[Class]==value])\n",
    "            den=len(df[attribute][df[attribute]==val])\n",
    "            prob=num/den\n",
    "            entropy_subsample+=-(prob*np.log2(prob+1e-10))\n",
    "        weight=den/len(df)\n",
    "        avg_entropy+=weight*entropy_subsample\n",
    "    return avg_entropy"
   ]
  },
  {
   "cell_type": "code",
   "execution_count": 15,
   "id": "9727b58d",
   "metadata": {
    "colab": {
     "base_uri": "https://localhost:8080/"
    },
    "id": "9727b58d",
    "outputId": "e0985753-4068-4882-ab64-e11176b819b4"
   },
   "outputs": [
    {
     "data": {
      "text/plain": [
       "0.6935361386488728"
      ]
     },
     "execution_count": 15,
     "metadata": {},
     "output_type": "execute_result"
    }
   ],
   "source": [
    "find_avg_info_entropy(df,'Outlook')"
   ]
  },
  {
   "cell_type": "code",
   "execution_count": 16,
   "id": "bf20a694",
   "metadata": {
    "id": "bf20a694"
   },
   "outputs": [],
   "source": [
    "def find_info_gain(df,attribute):\n",
    "    info_gain=find_entropy(df)-find_avg_info_entropy(df,attribute)\n",
    "    return info_gain"
   ]
  },
  {
   "cell_type": "code",
   "execution_count": 17,
   "id": "fe3e467d",
   "metadata": {
    "colab": {
     "base_uri": "https://localhost:8080/"
    },
    "id": "fe3e467d",
    "outputId": "d0604733-fd28-45ec-e4c8-1c38b5a61351"
   },
   "outputs": [
    {
     "data": {
      "text/plain": [
       "0.2467498197332193"
      ]
     },
     "execution_count": 17,
     "metadata": {},
     "output_type": "execute_result"
    }
   ],
   "source": [
    "find_info_gain(df,'Outlook')"
   ]
  },
  {
   "cell_type": "code",
   "execution_count": 18,
   "id": "bc9861b8",
   "metadata": {
    "id": "bc9861b8"
   },
   "outputs": [],
   "source": [
    "def find_split_info(df,attribute):\n",
    "    attribute_values=df[attribute].unique()\n",
    "    split_info=0\n",
    "    for val in attribute_values:\n",
    "        num=len(df[attribute][df[attribute]==val])\n",
    "        den=len(df[attribute])\n",
    "        prob=num/den\n",
    "        split_info+=prob*np.log2(prob+1e-10)\n",
    "    return -1*split_info"
   ]
  },
  {
   "cell_type": "code",
   "execution_count": 19,
   "id": "27855ec5",
   "metadata": {
    "colab": {
     "base_uri": "https://localhost:8080/"
    },
    "id": "27855ec5",
    "outputId": "e395355e-26ab-4956-a114-13671f7740d6"
   },
   "outputs": [
    {
     "data": {
      "text/plain": [
       "1.577406282419537"
      ]
     },
     "execution_count": 19,
     "metadata": {},
     "output_type": "execute_result"
    }
   ],
   "source": [
    "find_split_info(df,'Outlook')"
   ]
  },
  {
   "cell_type": "code",
   "execution_count": 20,
   "id": "fc8afb75",
   "metadata": {
    "id": "fc8afb75"
   },
   "outputs": [],
   "source": [
    "def find_winner(df):\n",
    "    GR=[]\n",
    "    for key in df.keys()[:-1]:\n",
    "        GR.append(find_info_gain(df,key)/find_split_info(df,key))\n",
    "    return df.keys()[:-1][np.argmax(GR)]"
   ]
  },
  {
   "cell_type": "code",
   "execution_count": 21,
   "id": "4fc00b8f",
   "metadata": {
    "colab": {
     "base_uri": "https://localhost:8080/",
     "height": 35
    },
    "id": "4fc00b8f",
    "outputId": "cac9ad05-2cea-4394-dc10-650e4f9c810d"
   },
   "outputs": [
    {
     "data": {
      "text/plain": [
       "'Temperature'"
      ]
     },
     "execution_count": 21,
     "metadata": {},
     "output_type": "execute_result"
    }
   ],
   "source": [
    "find_winner(df)"
   ]
  },
  {
   "cell_type": "code",
   "execution_count": 22,
   "id": "85e30b48",
   "metadata": {
    "id": "85e30b48"
   },
   "outputs": [],
   "source": [
    "def subsample(df,attribute,value):\n",
    "    return df[df[attribute]==value].reset_index(drop=True).drop([attribute],axis=1)"
   ]
  },
  {
   "cell_type": "code",
   "execution_count": 23,
   "id": "bfbb2257",
   "metadata": {
    "id": "bfbb2257"
   },
   "outputs": [],
   "source": [
    "def build_tree(df,tree=None):\n",
    "    if len(df.keys())==1:\n",
    "      return\n",
    "    Class=df.keys()[-1]\n",
    "    attribute=find_winner(df)\n",
    "    if tree is None:\n",
    "        tree={}\n",
    "        tree[attribute]={}\n",
    "    attr_values=df[attribute].unique()\n",
    "    for value in attr_values:\n",
    "        sub=subsample(df,attribute,value)\n",
    "        ClValue,counts=np.unique(sub[Class],return_counts=True) \n",
    "        # print(ClValue,counts)       \n",
    "        if(len(counts)==1):\n",
    "            tree[attribute][value]=ClValue[0]\n",
    "        else:\n",
    "            tree[attribute][value]=build_tree(sub)\n",
    "    return tree"
   ]
  },
  {
   "cell_type": "code",
   "execution_count": 24,
   "id": "ecd7bed1",
   "metadata": {
    "colab": {
     "base_uri": "https://localhost:8080/"
    },
    "id": "ecd7bed1",
    "outputId": "7410e092-2c99-4650-ab88-435ffdfd3c51"
   },
   "outputs": [
    {
     "data": {
      "text/plain": [
       "{'Temperature': {'True': 'no',\n",
       "  'False': {'Outlook': {'sunny': {'Humidity': {'True': {'Windy': {True: None,\n",
       "        False: None}}}},\n",
       "    'overcast': 'yes',\n",
       "    'rain': {'Windy': {False: 'yes', True: 'no'}}}}}}"
      ]
     },
     "execution_count": 24,
     "metadata": {},
     "output_type": "execute_result"
    }
   ],
   "source": [
    "build_tree(df)"
   ]
  },
  {
   "cell_type": "code",
   "execution_count": 25,
   "id": "fb6f89b2",
   "metadata": {},
   "outputs": [
    {
     "name": "stdout",
     "output_type": "stream",
     "text": [
      "Temperature Outlook\n"
     ]
    }
   ],
   "source": [
    "#Using Gain ratio find best two attributes that decide play attribute\n",
    "first_attr=find_winner(df)\n",
    "second_attr=find_winner(df.drop([first_attr],axis=1))\n",
    "print(first_attr,second_attr)"
   ]
  },
  {
   "cell_type": "code",
   "execution_count": 26,
   "id": "11a95a2b",
   "metadata": {},
   "outputs": [
    {
     "data": {
      "text/html": [
       "<div>\n",
       "<style scoped>\n",
       "    .dataframe tbody tr th:only-of-type {\n",
       "        vertical-align: middle;\n",
       "    }\n",
       "\n",
       "    .dataframe tbody tr th {\n",
       "        vertical-align: top;\n",
       "    }\n",
       "\n",
       "    .dataframe thead th {\n",
       "        text-align: right;\n",
       "    }\n",
       "</style>\n",
       "<table border=\"1\" class=\"dataframe\">\n",
       "  <thead>\n",
       "    <tr style=\"text-align: right;\">\n",
       "      <th></th>\n",
       "      <th>Outlook</th>\n",
       "      <th>Play</th>\n",
       "    </tr>\n",
       "  </thead>\n",
       "  <tbody>\n",
       "    <tr>\n",
       "      <th>0</th>\n",
       "      <td>sunny</td>\n",
       "      <td>no</td>\n",
       "    </tr>\n",
       "    <tr>\n",
       "      <th>1</th>\n",
       "      <td>sunny</td>\n",
       "      <td>no</td>\n",
       "    </tr>\n",
       "    <tr>\n",
       "      <th>2</th>\n",
       "      <td>overcast</td>\n",
       "      <td>yes</td>\n",
       "    </tr>\n",
       "    <tr>\n",
       "      <th>3</th>\n",
       "      <td>rain</td>\n",
       "      <td>yes</td>\n",
       "    </tr>\n",
       "    <tr>\n",
       "      <th>4</th>\n",
       "      <td>rain</td>\n",
       "      <td>yes</td>\n",
       "    </tr>\n",
       "    <tr>\n",
       "      <th>5</th>\n",
       "      <td>rain</td>\n",
       "      <td>no</td>\n",
       "    </tr>\n",
       "    <tr>\n",
       "      <th>6</th>\n",
       "      <td>overcast</td>\n",
       "      <td>yes</td>\n",
       "    </tr>\n",
       "    <tr>\n",
       "      <th>7</th>\n",
       "      <td>sunny</td>\n",
       "      <td>no</td>\n",
       "    </tr>\n",
       "    <tr>\n",
       "      <th>8</th>\n",
       "      <td>sunny</td>\n",
       "      <td>yes</td>\n",
       "    </tr>\n",
       "    <tr>\n",
       "      <th>9</th>\n",
       "      <td>rain</td>\n",
       "      <td>yes</td>\n",
       "    </tr>\n",
       "    <tr>\n",
       "      <th>10</th>\n",
       "      <td>sunny</td>\n",
       "      <td>yes</td>\n",
       "    </tr>\n",
       "    <tr>\n",
       "      <th>11</th>\n",
       "      <td>overcast</td>\n",
       "      <td>yes</td>\n",
       "    </tr>\n",
       "    <tr>\n",
       "      <th>12</th>\n",
       "      <td>overcast</td>\n",
       "      <td>yes</td>\n",
       "    </tr>\n",
       "    <tr>\n",
       "      <th>13</th>\n",
       "      <td>rain</td>\n",
       "      <td>no</td>\n",
       "    </tr>\n",
       "  </tbody>\n",
       "</table>\n",
       "</div>"
      ],
      "text/plain": [
       "     Outlook Play\n",
       "0      sunny   no\n",
       "1      sunny   no\n",
       "2   overcast  yes\n",
       "3       rain  yes\n",
       "4       rain  yes\n",
       "5       rain   no\n",
       "6   overcast  yes\n",
       "7      sunny   no\n",
       "8      sunny  yes\n",
       "9       rain  yes\n",
       "10     sunny  yes\n",
       "11  overcast  yes\n",
       "12  overcast  yes\n",
       "13      rain   no"
      ]
     },
     "execution_count": 26,
     "metadata": {},
     "output_type": "execute_result"
    }
   ],
   "source": [
    "df1=df[['Outlook','Play']]\n",
    "df1"
   ]
  },
  {
   "cell_type": "code",
   "execution_count": 27,
   "id": "9be5edb8",
   "metadata": {},
   "outputs": [],
   "source": [
    "from scipy.stats import chi2\n",
    "def chi_square(df1):\n",
    "    outlook_attrs=df1['Outlook'].unique()\n",
    "    Class=df1['Play'].unique()\n",
    "    table=pd.DataFrame(columns=Class, index=outlook_attrs)\n",
    "    for value in outlook_attrs:\n",
    "        for value1 in Class:\n",
    "            n=len(df1['Outlook'][df1['Outlook']==value][df1['Play']==value1])\n",
    "            table.loc[value][value1]=n\n",
    "    table['total_rows']=table.sum(axis=1)\n",
    "    table.loc['total_cols']=table.sum(axis=0)\n",
    "    O=[]\n",
    "    E=[]\n",
    "    total=table.loc['total_cols']['total_rows']\n",
    "    for value in outlook_attrs:\n",
    "        for value1 in Class:\n",
    "            O.append(table.loc[value][value1])\n",
    "            p1=table.loc['total_cols'][value1]/total\n",
    "            p2=table.loc[value]['total_rows']/total\n",
    "            p=p1*p2\n",
    "            E.append(total*p)\n",
    "    O=np.array(O)\n",
    "    E=np.array(E)\n",
    "    diff=O-E\n",
    "    Square_diff=diff*diff\n",
    "    f_vals=Square_diff/E\n",
    "    Chi_sq_val=sum(f_vals)\n",
    "    dof=(len(outlook_attrs)-1)*(len(Class)-1)\n",
    "    alpha=0.05\n",
    "    critical_val=chi2.ppf(1-alpha,dof)\n",
    "    if Chi_sq_val<critical_val:\n",
    "        print('Play does not depend on Outlook')\n",
    "    else:\n",
    "        print('Play depends on Outlook')"
   ]
  },
  {
   "cell_type": "code",
   "execution_count": 28,
   "id": "de617f55",
   "metadata": {},
   "outputs": [
    {
     "name": "stdout",
     "output_type": "stream",
     "text": [
      "Play does not depend on Outlook\n"
     ]
    }
   ],
   "source": [
    "chi_square(df1)"
   ]
  }
 ],
 "metadata": {
  "colab": {
   "name": "Untitled.ipynb",
   "provenance": []
  },
  "kernelspec": {
   "display_name": "Python 3 (ipykernel)",
   "language": "python",
   "name": "python3"
  },
  "language_info": {
   "codemirror_mode": {
    "name": "ipython",
    "version": 3
   },
   "file_extension": ".py",
   "mimetype": "text/x-python",
   "name": "python",
   "nbconvert_exporter": "python",
   "pygments_lexer": "ipython3",
   "version": "3.9.6"
  }
 },
 "nbformat": 4,
 "nbformat_minor": 5
}
