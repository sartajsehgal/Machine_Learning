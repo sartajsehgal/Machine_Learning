{
  "cells": [
    {
      "cell_type": "code",
      "execution_count": null,
      "id": "d34e1837-3d73-479b-8f5c-7264205be00b",
      "metadata": {
        "id": "d34e1837-3d73-479b-8f5c-7264205be00b"
      },
      "outputs": [],
      "source": [
        "import cudf\n",
        "import cupy\n",
        "import cuml\n",
        "import math"
      ]
    },
    {
      "cell_type": "code",
      "execution_count": null,
      "id": "21c9c908-2eff-4e30-a819-31c653230fe5",
      "metadata": {
        "id": "21c9c908-2eff-4e30-a819-31c653230fe5",
        "outputId": "6a466f79-4777-469a-ca36-6ebd36309663"
      },
      "outputs": [
        {
          "name": "stdout",
          "output_type": "stream",
          "text": [
            "[1.0471975511965976, 1.117010721276371, 1.1868238913561442, 1.2566370614359172, 1.3264502315156905, 1.3962634015954636, 1.4660765716752369, 1.53588974175501, 1.6057029118347832, 1.6755160819145565, 1.7453292519943295, 1.8151424220741028, 1.8849555921538759, 1.9547687622336491, 2.0245819323134224, 2.0943951023931953, 2.1642082724729685, 2.234021442552742, 2.303834612632515, 2.3736477827122884, 2.443460952792061, 2.5132741228718345, 2.5830872929516078, 2.652900463031381, 2.722713633111154, 2.792526803190927, 2.8623399732707004, 2.9321531433504737, 3.001966313430247, 3.07177948351002, 3.141592653589793, 3.2114058236695664, 3.2812189937493397, 3.351032163829113, 3.420845333908886, 3.490658503988659, 3.5604716740684323, 3.6302848441482056, 3.7000980142279785, 3.7699111843077517, 3.839724354387525, 3.9095375244672983, 3.9793506945470716, 4.049163864626845, 4.118977034706618, 4.1887902047863905, 4.258603374866164, 4.328416544945937, 4.39822971502571, 4.468042885105484, 4.537856055185257, 4.60766922526503, 4.6774823953448035, 4.747295565424577, 4.817108735504349, 4.886921905584122, 4.956735075663896, 5.026548245743669, 5.096361415823442, 5.1661745859032155, 5.235987755982989, 5.305800926062762, 5.375614096142535, 5.445427266222308, 5.515240436302081, 5.585053606381854, 5.654866776461628, 5.724679946541401, 5.794493116621174, 5.8643062867009474, 5.934119456780721, 6.003932626860494, 6.073745796940266, 6.14355896702004, 6.213372137099813, 6.283185307179586]\n",
            "---\n",
            "[0.8660254037844386, 0.898794046299167, 0.9271838545667874, 0.9510565162951535, 0.9702957262759965, 0.984807753012208, 0.9945218953682733, 0.9993908270190958, 0.9993908270190958, 0.9945218953682733, 0.984807753012208, 0.9702957262759965, 0.9510565162951536, 0.9271838545667874, 0.8987940462991669, 0.8660254037844387, 0.8290375725550417, 0.788010753606722, 0.7431448254773942, 0.6946583704589971, 0.6427876096865395, 0.5877852522924732, 0.5299192642332049, 0.4694715627858907, 0.40673664307580043, 0.3420201433256689, 0.2756373558169992, 0.20791169081775931, 0.13917310096006533, 0.06975647374412552, 1.2246467991473532e-16, -0.06975647374412527, -0.13917310096006552, -0.2079116908177595, -0.275637355816999, -0.34202014332566866, -0.4067366430758002, -0.46947156278589086, -0.5299192642332048, -0.587785252292473, -0.6427876096865393, -0.6946583704589974, -0.7431448254773944, -0.7880107536067221, -0.8290375725550418, -0.8660254037844384, -0.8987940462991668, -0.9271838545667873, -0.9510565162951535, -0.9702957262759965, -0.984807753012208, -0.9945218953682734, -0.9993908270190958, -0.9993908270190958, -0.9945218953682734, -0.9848077530122081, -0.9702957262759966, -0.9510565162951536, -0.9271838545667874, -0.898794046299167, -0.8660254037844386, -0.8290375725550416, -0.7880107536067218, -0.7431448254773946, -0.6946583704589976, -0.6427876096865396, -0.5877852522924734, -0.529919264233205, -0.4694715627858908, -0.40673664307580015, -0.3420201433256686, -0.27563735581699894, -0.20791169081775987, -0.13917310096006588, -0.06975647374412564, -2.4492935982947064e-16]\n"
          ]
        }
      ],
      "source": [
        "X=[]\n",
        "Y=[]\n",
        "for i in range(60,364,4):\n",
        "    X.append(math.radians(i))\n",
        "    Y.append(math.sin(math.radians(i)))\n",
        "print(X)\n",
        "print(\"---\")\n",
        "print(Y)"
      ]
    },
    {
      "cell_type": "code",
      "execution_count": null,
      "id": "f458201f-9468-4ee4-b49f-b41401d168a9",
      "metadata": {
        "id": "f458201f-9468-4ee4-b49f-b41401d168a9",
        "outputId": "3abc10b8-d134-4070-b668-0a4f3f1d95f5"
      },
      "outputs": [
        {
          "name": "stdout",
          "output_type": "stream",
          "text": [
            "<class 'cupy._core.core.ndarray'>\n"
          ]
        }
      ],
      "source": [
        "X=cupy.array(X)\n",
        "print(type(X))"
      ]
    },
    {
      "cell_type": "code",
      "execution_count": null,
      "id": "8b40d572-32e1-4ba8-abed-4e7e0188d1d3",
      "metadata": {
        "id": "8b40d572-32e1-4ba8-abed-4e7e0188d1d3",
        "outputId": "524a226e-d0a9-48a0-f387-5723b7bb65b3"
      },
      "outputs": [
        {
          "name": "stdout",
          "output_type": "stream",
          "text": [
            "[1.09316447 1.04639719 1.27499396 1.20779245 1.31472647 1.56540689\n",
            " 1.40495908 1.54143018 1.77396425 1.62263406 1.72628114 1.61160198\n",
            " 1.86681711 1.99044168 2.00913073 2.05590374 2.20442346 2.34944195\n",
            " 2.31410966 2.29750482 2.44159584 2.34469804 2.51286872 2.69996999\n",
            " 2.70303687 2.93005597 2.88094542 2.9453899  2.96996265 3.13916376\n",
            " 3.22278296 3.11076561 3.28145452 3.31948915 3.45129081 3.58894669\n",
            " 3.58174983 3.58207848 3.78249742 3.87164384 3.87206857 3.75413313\n",
            " 3.9945909  3.92904127 4.04691846 3.99823548 4.17830944 4.48237011\n",
            " 4.31865932 4.31961746 4.59027658 4.82105608 4.63731073 4.85080132\n",
            " 4.82574047 4.9270246  5.08468696 4.94700675 5.03818815 5.25031626\n",
            " 5.147909   5.46359764 5.43897404 5.44007104 5.48813754 5.38459978\n",
            " 5.90012166 5.68957039 5.87023778 5.92221376 5.81271216 5.85936889\n",
            " 6.14101524 6.01883667 6.31682589 6.35658757]\n"
          ]
        }
      ],
      "source": [
        "X_noisy=X+cupy.random.normal(0,0.1,X.shape)\n",
        "print(X_noisy)"
      ]
    },
    {
      "cell_type": "code",
      "execution_count": null,
      "id": "878fac58-d685-48ef-b772-ca5052fc7ba1",
      "metadata": {
        "id": "878fac58-d685-48ef-b772-ca5052fc7ba1"
      },
      "outputs": [],
      "source": [
        "df=cudf.DataFrame({'x':X_noisy,'y':Y})\n",
        "df.insert(name='ones',value=1.0,loc=0)"
      ]
    },
    {
      "cell_type": "code",
      "execution_count": null,
      "id": "ed8fc947-9bc1-4fd2-bb7e-6a167b20b347",
      "metadata": {
        "id": "ed8fc947-9bc1-4fd2-bb7e-6a167b20b347",
        "outputId": "d6c424de-12fc-4846-d160-fbe28e4a3dc1"
      },
      "outputs": [
        {
          "data": {
            "text/html": [
              "<div>\n",
              "<style scoped>\n",
              "    .dataframe tbody tr th:only-of-type {\n",
              "        vertical-align: middle;\n",
              "    }\n",
              "\n",
              "    .dataframe tbody tr th {\n",
              "        vertical-align: top;\n",
              "    }\n",
              "\n",
              "    .dataframe thead th {\n",
              "        text-align: right;\n",
              "    }\n",
              "</style>\n",
              "<table border=\"1\" class=\"dataframe\">\n",
              "  <thead>\n",
              "    <tr style=\"text-align: right;\">\n",
              "      <th></th>\n",
              "      <th>ones</th>\n",
              "      <th>x</th>\n",
              "      <th>y</th>\n",
              "    </tr>\n",
              "  </thead>\n",
              "  <tbody>\n",
              "    <tr>\n",
              "      <th>0</th>\n",
              "      <td>1.0</td>\n",
              "      <td>1.093164</td>\n",
              "      <td>8.660254e-01</td>\n",
              "    </tr>\n",
              "    <tr>\n",
              "      <th>1</th>\n",
              "      <td>1.0</td>\n",
              "      <td>1.046397</td>\n",
              "      <td>8.987940e-01</td>\n",
              "    </tr>\n",
              "    <tr>\n",
              "      <th>2</th>\n",
              "      <td>1.0</td>\n",
              "      <td>1.274994</td>\n",
              "      <td>9.271839e-01</td>\n",
              "    </tr>\n",
              "    <tr>\n",
              "      <th>3</th>\n",
              "      <td>1.0</td>\n",
              "      <td>1.207792</td>\n",
              "      <td>9.510565e-01</td>\n",
              "    </tr>\n",
              "    <tr>\n",
              "      <th>4</th>\n",
              "      <td>1.0</td>\n",
              "      <td>1.314726</td>\n",
              "      <td>9.702957e-01</td>\n",
              "    </tr>\n",
              "    <tr>\n",
              "      <th>...</th>\n",
              "      <td>...</td>\n",
              "      <td>...</td>\n",
              "      <td>...</td>\n",
              "    </tr>\n",
              "    <tr>\n",
              "      <th>71</th>\n",
              "      <td>1.0</td>\n",
              "      <td>5.859369</td>\n",
              "      <td>-2.756374e-01</td>\n",
              "    </tr>\n",
              "    <tr>\n",
              "      <th>72</th>\n",
              "      <td>1.0</td>\n",
              "      <td>6.141015</td>\n",
              "      <td>-2.079117e-01</td>\n",
              "    </tr>\n",
              "    <tr>\n",
              "      <th>73</th>\n",
              "      <td>1.0</td>\n",
              "      <td>6.018837</td>\n",
              "      <td>-1.391731e-01</td>\n",
              "    </tr>\n",
              "    <tr>\n",
              "      <th>74</th>\n",
              "      <td>1.0</td>\n",
              "      <td>6.316826</td>\n",
              "      <td>-6.975647e-02</td>\n",
              "    </tr>\n",
              "    <tr>\n",
              "      <th>75</th>\n",
              "      <td>1.0</td>\n",
              "      <td>6.356588</td>\n",
              "      <td>-2.449294e-16</td>\n",
              "    </tr>\n",
              "  </tbody>\n",
              "</table>\n",
              "<p>76 rows × 3 columns</p>\n",
              "</div>"
            ],
            "text/plain": [
              "    ones         x             y\n",
              "0    1.0  1.093164  8.660254e-01\n",
              "1    1.0  1.046397  8.987940e-01\n",
              "2    1.0  1.274994  9.271839e-01\n",
              "3    1.0  1.207792  9.510565e-01\n",
              "4    1.0  1.314726  9.702957e-01\n",
              "..   ...       ...           ...\n",
              "71   1.0  5.859369 -2.756374e-01\n",
              "72   1.0  6.141015 -2.079117e-01\n",
              "73   1.0  6.018837 -1.391731e-01\n",
              "74   1.0  6.316826 -6.975647e-02\n",
              "75   1.0  6.356588 -2.449294e-16\n",
              "\n",
              "[76 rows x 3 columns]"
            ]
          },
          "execution_count": 6,
          "metadata": {},
          "output_type": "execute_result"
        }
      ],
      "source": [
        "df"
      ]
    },
    {
      "cell_type": "code",
      "execution_count": null,
      "id": "2fa8d355-0883-4a63-969d-95552cce3470",
      "metadata": {
        "id": "2fa8d355-0883-4a63-969d-95552cce3470",
        "outputId": "6246f562-b36d-452a-da2e-a722a749d4b2"
      },
      "outputs": [
        {
          "name": "stdout",
          "output_type": "stream",
          "text": [
            "    ones         x\n",
            "0    1.0  1.093164\n",
            "1    1.0  1.046397\n",
            "2    1.0  1.274994\n",
            "3    1.0  1.207792\n",
            "4    1.0  1.314726\n",
            "..   ...       ...\n",
            "71   1.0  5.859369\n",
            "72   1.0  6.141015\n",
            "73   1.0  6.018837\n",
            "74   1.0  6.316826\n",
            "75   1.0  6.356588\n",
            "\n",
            "[76 rows x 2 columns]\n",
            "0     1.093164\n",
            "1     1.046397\n",
            "2     1.274994\n",
            "3     1.207792\n",
            "4     1.314726\n",
            "        ...   \n",
            "71    5.859369\n",
            "72    6.141015\n",
            "73    6.018837\n",
            "74    6.316826\n",
            "75    6.356588\n",
            "Name: x, Length: 76, dtype: float64\n"
          ]
        }
      ],
      "source": [
        "X=df.iloc[:,:-1]\n",
        "Y=df.iloc[:,1]\n",
        "print(X)\n",
        "print(Y)"
      ]
    },
    {
      "cell_type": "code",
      "execution_count": null,
      "id": "141b2acb-5e72-418e-a57e-92c4e9f39beb",
      "metadata": {
        "id": "141b2acb-5e72-418e-a57e-92c4e9f39beb"
      },
      "outputs": [],
      "source": [
        "from cuml.model_selection import train_test_split\n",
        "Xtrain,Xtest,Ytrain,Ytest=train_test_split(X,Y,test_size=0.3,random_state=42)"
      ]
    },
    {
      "cell_type": "code",
      "execution_count": null,
      "id": "559cc30d-8b0b-4b5e-97f4-4ed87204165b",
      "metadata": {
        "id": "559cc30d-8b0b-4b5e-97f4-4ed87204165b",
        "outputId": "1f355e18-ed03-47c0-c948-b608be3cb9da"
      },
      "outputs": [
        {
          "name": "stdout",
          "output_type": "stream",
          "text": [
            "(2, 2)\n",
            "[[ 54.         190.68291444]\n",
            " [190.68291444 790.6506989 ]]\n",
            "[[0.01 0.  ]\n",
            " [0.   0.01]]\n",
            "[[ 54.01       190.68291444]\n",
            " [190.68291444 790.6606989 ]]\n"
          ]
        }
      ],
      "source": [
        "l=0.01\n",
        "A=Xtrain.values.T.dot(Xtrain.values)\n",
        "print(A.shape)\n",
        "B=l*cupy.identity(A.shape[0])\n",
        "C=A+B #why cupy.add\n",
        "D=cupy.linalg.inv(C)\n",
        "Beta=D.dot(Xtrain.values.T.dot(Ytrain.values))\n",
        "print(A)\n",
        "print(B)\n",
        "print(C)"
      ]
    },
    {
      "cell_type": "code",
      "execution_count": null,
      "id": "e4ad25d8-c2ea-42b7-ae4b-dbf8506eae7b",
      "metadata": {
        "id": "e4ad25d8-c2ea-42b7-ae4b-dbf8506eae7b",
        "outputId": "db3fa9b2-77c7-45ea-aaf5-f8b23d096880"
      },
      "outputs": [
        {
          "name": "stdout",
          "output_type": "stream",
          "text": [
            "[3.00590515e-04 9.99914859e-01]\n"
          ]
        }
      ],
      "source": [
        "print(Beta)"
      ]
    },
    {
      "cell_type": "code",
      "execution_count": null,
      "id": "91612fbb-8cdd-49f3-9993-39cd452217d8",
      "metadata": {
        "id": "91612fbb-8cdd-49f3-9993-39cd452217d8",
        "outputId": "e831857b-8902-4f40-e6c6-39cfe3415e24"
      },
      "outputs": [
        {
          "data": {
            "text/plain": [
              "0.9999999921438026"
            ]
          },
          "execution_count": 11,
          "metadata": {},
          "output_type": "execute_result"
        }
      ],
      "source": [
        "Ypredict=Xtest.values.dot(Beta)\n",
        "from cuml.metrics import r2_score\n",
        "r2_score(Ytest,Ypredict)"
      ]
    },
    {
      "cell_type": "code",
      "execution_count": null,
      "id": "e2efbe2d-e56a-4234-821a-855fc5d16881",
      "metadata": {
        "id": "e2efbe2d-e56a-4234-821a-855fc5d16881"
      },
      "outputs": [],
      "source": [
        "from cuml.model_selection import train_test_split\n",
        "XtrainN,XValid,YtrainN,YValid=train_test_split(Xtrain,Ytrain,test_size=0.3,random_state=42)"
      ]
    },
    {
      "cell_type": "code",
      "execution_count": null,
      "id": "04cbf7a2-8494-46f9-b282-d0193970c9ce",
      "metadata": {
        "id": "04cbf7a2-8494-46f9-b282-d0193970c9ce",
        "outputId": "a805badc-a185-4fa4-aa3d-611271dc1ca8"
      },
      "outputs": [
        {
          "name": "stdout",
          "output_type": "stream",
          "text": [
            "[[1.0, 1e-07], [0.9999999999999999, 1e-06], [0.9999999999999845, 1e-05], [0.999999999998445, 0.0001], [0.9999999998445523, 0.001], [0.9999999845073301, 0.01], [0.999998501319924, 0.1], [0.9998888115946885, 1], [0.9971974514253569, 10], [0.8823561050714976, 100], [-1.3443871268287366, 1000]]\n"
          ]
        }
      ],
      "source": [
        "lamda=[1e-7,1e-6,1e-5,1e-4,1e-3,1e-2,1e-1,1,10,100,1000]\n",
        "R2_score=[]\n",
        "for l in lamda:\n",
        "    A=XtrainN.values.T.dot(XtrainN.values)\n",
        "    B=l*cupy.identity(A.shape[0])\n",
        "    C=A+B #why cupy.add\n",
        "    D=cupy.linalg.inv(C)\n",
        "    Beta=D.dot(XtrainN.values.T.dot(YtrainN.values))\n",
        "    YpredictN=XValid.values.dot(Beta)\n",
        "    R2_score.append([r2_score(YValid,YpredictN),l])\n",
        "print(R2_score)"
      ]
    },
    {
      "cell_type": "code",
      "execution_count": null,
      "id": "faffbc45-a2b3-40dd-aac1-ce7edae3e11a",
      "metadata": {
        "id": "faffbc45-a2b3-40dd-aac1-ce7edae3e11a",
        "outputId": "53b45cab-dcf1-4a11-b561-d2af62d28592"
      },
      "outputs": [
        {
          "name": "stdout",
          "output_type": "stream",
          "text": [
            "1.0\n"
          ]
        }
      ],
      "source": [
        "l=(max(R2_score)[1])\n",
        "A=Xtrain.values.T.dot(Xtrain.values)\n",
        "B=l*cupy.identity(A.shape[0])\n",
        "C=A+B #why cupy.add\n",
        "D=cupy.linalg.inv(C)\n",
        "Beta=D.dot(Xtrain.values.T.dot(Ytrain.values))\n",
        "Ypredict=Xtest.values.dot(Beta)\n",
        "print(r2_score(Ytest,Ypredict))"
      ]
    },
    {
      "cell_type": "code",
      "execution_count": null,
      "id": "e4f01801-78bc-499c-a51d-0c55ca95b4a0",
      "metadata": {
        "id": "e4f01801-78bc-499c-a51d-0c55ca95b4a0",
        "outputId": "7e702c80-9577-4642-dedc-566a819c4336"
      },
      "outputs": [
        {
          "name": "stdout",
          "output_type": "stream",
          "text": [
            "    ones         x\n",
            "0    1.0  1.093164\n",
            "1    1.0  1.046397\n",
            "2    1.0  1.274994\n",
            "3    1.0  1.207792\n",
            "4    1.0  1.314726\n",
            "..   ...       ...\n",
            "71   1.0  5.859369\n",
            "72   1.0  6.141015\n",
            "73   1.0  6.018837\n",
            "74   1.0  6.316826\n",
            "75   1.0  6.356588\n",
            "\n",
            "[76 rows x 2 columns]\n",
            "0     1.093164\n",
            "1     1.046397\n",
            "2     1.274994\n",
            "3     1.207792\n",
            "4     1.314726\n",
            "        ...   \n",
            "71    5.859369\n",
            "72    6.141015\n",
            "73    6.018837\n",
            "74    6.316826\n",
            "75    6.356588\n",
            "Name: x, Length: 76, dtype: float64\n"
          ]
        },
        {
          "data": {
            "text/plain": [
              "Ridge()"
            ]
          },
          "execution_count": 15,
          "metadata": {},
          "output_type": "execute_result"
        }
      ],
      "source": [
        "from cuml.linear_model import Ridge\n",
        "rr=Ridge(alpha=1e-7)\n",
        "print(X)\n",
        "print(Y)\n",
        "rr.fit(X,Y)"
      ]
    },
    {
      "cell_type": "code",
      "execution_count": null,
      "id": "65cea717-b2de-40cb-99e7-f67da6122c0d",
      "metadata": {
        "id": "65cea717-b2de-40cb-99e7-f67da6122c0d"
      },
      "outputs": [],
      "source": [
        "Ypred=rr.predict(Xtest)"
      ]
    },
    {
      "cell_type": "code",
      "execution_count": null,
      "id": "fce1ffc6-8c49-4b46-858d-ea81dc71d2bc",
      "metadata": {
        "id": "fce1ffc6-8c49-4b46-858d-ea81dc71d2bc",
        "outputId": "6bb93977-c680-423d-8d67-865ed0b2d961"
      },
      "outputs": [
        {
          "name": "stdout",
          "output_type": "stream",
          "text": [
            "1.0\n"
          ]
        }
      ],
      "source": [
        "print(r2_score(Ytest,Ypred))"
      ]
    },
    {
      "cell_type": "code",
      "execution_count": null,
      "id": "d739ab96-19be-4c90-95d0-74afcdb210a5",
      "metadata": {
        "id": "d739ab96-19be-4c90-95d0-74afcdb210a5"
      },
      "outputs": [],
      "source": [
        ""
      ]
    }
  ],
  "metadata": {
    "kernelspec": {
      "display_name": "Python 3",
      "language": "python",
      "name": "python3"
    },
    "language_info": {
      "codemirror_mode": {
        "name": "ipython",
        "version": 3
      },
      "file_extension": ".py",
      "mimetype": "text/x-python",
      "name": "python",
      "nbconvert_exporter": "python",
      "pygments_lexer": "ipython3",
      "version": "3.7.10"
    },
    "colab": {
      "name": "RidgeRegression.ipynb",
      "provenance": []
    }
  },
  "nbformat": 4,
  "nbformat_minor": 5
}