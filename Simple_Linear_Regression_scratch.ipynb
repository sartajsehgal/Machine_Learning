{
  "nbformat": 4,
  "nbformat_minor": 0,
  "metadata": {
    "kernelspec": {
      "display_name": "Python 3",
      "language": "python",
      "name": "python3"
    },
    "language_info": {
      "codemirror_mode": {
        "name": "ipython",
        "version": 3
      },
      "file_extension": ".py",
      "mimetype": "text/x-python",
      "name": "python",
      "nbconvert_exporter": "python",
      "pygments_lexer": "ipython3",
      "version": "3.7.3"
    },
    "colab": {
      "name": "Simple_Linear_Regression_scratch.ipynb",
      "provenance": []
    }
  },
  "cells": [
    {
      "cell_type": "code",
      "metadata": {
        "colab": {
          "base_uri": "https://localhost:8080/"
        },
        "id": "CCGT6qykoKBQ",
        "outputId": "5a763749-4cd5-4ea3-a7b4-7ea9d4200429"
      },
      "source": [
        "arr=[[245, 1400],\n",
        "    [312, 1600],\n",
        "    [279, 1700],\n",
        "    [308, 1875],\n",
        "    [199, 1100],\n",
        "    [219, 1550],\n",
        "    [405, 2350],\n",
        "    [324, 2450],\n",
        "    [319, 1425],\n",
        "    [255, 1700]]\n",
        "print(arr)"
      ],
      "execution_count": null,
      "outputs": [
        {
          "output_type": "stream",
          "name": "stdout",
          "text": [
            "[[245, 1400], [312, 1600], [279, 1700], [308, 1875], [199, 1100], [219, 1550], [405, 2350], [324, 2450], [319, 1425], [255, 1700]]\n"
          ]
        }
      ]
    },
    {
      "cell_type": "code",
      "metadata": {
        "colab": {
          "base_uri": "https://localhost:8080/"
        },
        "id": "5gu8-bM7oKBY",
        "outputId": "3297d551-a7e0-40ce-be0e-8e25b0834aa6"
      },
      "source": [
        "sumXY=0\n",
        "sumX=0\n",
        "sumY=0\n",
        "sumx2=0\n",
        "for i in range(10):\n",
        "    sumXY+=(arr[i][0]*arr[i][1])\n",
        "    sumX+=arr[i][1]\n",
        "    sumY+=arr[i][0]\n",
        "    sumx2+=(arr[i][1]*arr[i][1])\n",
        "n=10\n",
        "\n",
        "m=((n*sumXY)-(sumX*sumY))/((n*sumx2) - (sumX*sumX))\n",
        "\n",
        "c=((sumY - m*sumX)/n)\n",
        "\n",
        "x=[3000,2000,1500]\n",
        "\n",
        "for i in x:\n",
        "    print(m*i+c)"
      ],
      "execution_count": null,
      "outputs": [
        {
          "output_type": "stream",
          "name": "stdout",
          "text": [
            "427.5515431116767\n",
            "317.7838052815781\n",
            "262.8999363665288\n"
          ]
        }
      ]
    },
    {
      "cell_type": "code",
      "metadata": {
        "colab": {
          "base_uri": "https://localhost:8080/"
        },
        "id": "dsBd9dM1oKBZ",
        "outputId": "1e36a90c-2860-4aea-dde4-4dcf0bcd6995"
      },
      "source": [
        "from sklearn.linear_model import LinearRegression\n",
        "regression_model = LinearRegression()\n",
        "x=[]\n",
        "y=[]\n",
        "for i in range(10):\n",
        "    x1=[]\n",
        "    y1=[]\n",
        "    x1.append(arr[i][1])\n",
        "    y1.append(arr[i][0])\n",
        "    x.append(x1)\n",
        "    y.append(y1)\n",
        "print(x)\n",
        "print(y)\n",
        "regression_model.fit(x, y)\n",
        "x_test=[[3000],[2000],[1500]]\n",
        "y_predicted = regression_model.predict(x_test)\n",
        "print(y_predicted)"
      ],
      "execution_count": null,
      "outputs": [
        {
          "output_type": "stream",
          "name": "stdout",
          "text": [
            "[[1400], [1600], [1700], [1875], [1100], [1550], [2350], [2450], [1425], [1700]]\n",
            "[[245], [312], [279], [308], [199], [219], [405], [324], [319], [255]]\n",
            "[[427.55154311]\n",
            " [317.78380528]\n",
            " [262.89993637]]\n"
          ]
        }
      ]
    },
    {
      "cell_type": "code",
      "metadata": {
        "id": "_iSqcy2loKBd"
      },
      "source": [
        ""
      ],
      "execution_count": null,
      "outputs": []
    }
  ]
}